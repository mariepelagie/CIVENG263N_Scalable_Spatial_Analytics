{
 "cells": [
  {
   "cell_type": "code",
   "execution_count": 1,
   "metadata": {},
   "outputs": [],
   "source": [
    "import requests\n",
    "import pandas as pd\n",
    "import geopandas as gpd\n",
    "import numpy as np\n",
    "import json\n",
    "import math\n",
    "import networkx as nx\n",
    "# from haversine import haversine\n",
    "# import ipfn\n",
    "# import networkx\n",
    "import matplotlib.pyplot as plt\n",
    "from matplotlib import patheffects\n",
    "%matplotlib inline  \n",
    "import skmob\n",
    "from skmob.measures.evaluation import r_squared,rmse, pearson_correlation,common_part_of_commuters,max_error,common_part_of_commuters_distance\n",
    "# import shapefile as shp"
   ]
  },
  {
   "cell_type": "markdown",
   "metadata": {},
   "source": [
    "### Importing data, creating tesselation, flow dataframes and radiation model"
   ]
  },
  {
   "cell_type": "code",
   "execution_count": 2,
   "metadata": {},
   "outputs": [],
   "source": [
    "## Nodes\n",
    "nodes = pd.read_csv('THE_NODES.txt',sep =\" \",  header = None)\n",
    "nodes = nodes.rename(columns = {0:'county_ID', 1:'population',2: 'latitude', 3: 'longitude', 4: 'intra_county_trips'} )\n",
    "## Tesselation\n",
    "nodes_gdf = gpd.GeoDataFrame(nodes,geometry=gpd.points_from_xy(nodes.longitude,nodes.latitude))\n",
    "tessellation  = nodes_gdf[['county_ID','population','geometry']]\n",
    "## Edges\n",
    "links = pd.read_csv('THE_LINKS.txt',sep =\" \",  header = None)\n",
    "links = links.rename(columns = {0:'origin_county', 1:'destination_county',2: 'distance_[km]', 3: 'number_of_trips.'} )\n",
    "## renaming columns of data\n",
    "link_ = pd.read_csv('THE_LINKS.txt',sep =\" \",  header = None)\n",
    "link_ = link_.rename(columns = {0:'origin', 1:'destination',2: 'distance_[km]', 3: 'flow'} )\n",
    "link_ = link_[['origin','destination','flow']]\n",
    "\n"
   ]
  },
  {
   "cell_type": "code",
   "execution_count": null,
   "metadata": {},
   "outputs": [],
   "source": []
  },
  {
   "cell_type": "code",
   "execution_count": 3,
   "metadata": {},
   "outputs": [],
   "source": [
    "# unique_tile_ids  = list(np.unique(links['origin']))\n",
    "# unique_tile_ids.extend(list(np.unique(links['destination'])))\n",
    "# unique_tile_ids = list(np.unique(unique_tile_ids))\n",
    "# unique_tile_ids = [str(x) for x in unique_tile_ids]"
   ]
  },
  {
   "cell_type": "code",
   "execution_count": 4,
   "metadata": {},
   "outputs": [
    {
     "name": "stderr",
     "output_type": "stream",
     "text": [
      "C:\\Users\\mmoud\\Anaconda3\\envs\\skmob\\lib\\site-packages\\scikit_mobility-1.0-py3.7.egg\\skmob\\core\\flowdataframe.py:145: UserWarning: The tessellation crs is None. It will be set to the default crs WGS84 (EPSG:4326).\n"
     ]
    }
   ],
   "source": [
    "fdf = skmob.FlowDataFrame(\n",
    "    data = links, origin = 'origin_county' , destination = 'destination_county', flow = 'number_of_trips.' ,\n",
    "    tessellation=tessellation, tile_id='county_ID');"
   ]
  },
  {
   "cell_type": "code",
   "execution_count": 5,
   "metadata": {},
   "outputs": [
    {
     "name": "stderr",
     "output_type": "stream",
     "text": [
      "C:\\Users\\mmoud\\Anaconda3\\envs\\skmob\\lib\\site-packages\\geopandas\\geodataframe.py:853: SettingWithCopyWarning: \n",
      "A value is trying to be set on a copy of a slice from a DataFrame.\n",
      "Try using .loc[row_indexer,col_indexer] = value instead\n",
      "\n",
      "See the caveats in the documentation: https://pandas.pydata.org/pandas-docs/stable/user_guide/indexing.html#returning-a-view-versus-a-copy\n",
      "  super(GeoDataFrame, self).__setitem__(key, value)\n"
     ]
    }
   ],
   "source": [
    "## Radiation model\n",
    "from skmob.utils import utils, constants\n",
    "from skmob.models import Gravity\n",
    "from skmob.models import Radiation\n",
    "## create tot_outflows\n",
    "tot_outflows = fdf[fdf['origin'] != fdf['destination']].groupby(by='origin', axis=0)['flow'].sum().fillna(0).values\n",
    "## insert outflow of zero to missing index:  545  with id value:  15005\n",
    "tot_outflows = np.insert(tot_outflows, 545,0)\n",
    "## add tot outflows column to tesselation\n",
    "tessellation[constants.TOT_OUTFLOW] = tot_outflows\n",
    "\n"
   ]
  },
  {
   "cell_type": "code",
   "execution_count": 6,
   "metadata": {},
   "outputs": [
    {
     "name": "stderr",
     "output_type": "stream",
     "text": [
      "100%|██████████████████████████████████████████████████████████████████████████████| 3141/3141 [02:50<00:00, 18.46it/s]\n",
      "C:\\Users\\mmoud\\Anaconda3\\envs\\skmob\\lib\\site-packages\\scikit_mobility-1.0-py3.7.egg\\skmob\\core\\flowdataframe.py:145: UserWarning: The tessellation crs is None. It will be set to the default crs WGS84 (EPSG:4326).\n"
     ]
    }
   ],
   "source": [
    "## generate radiation model\n",
    "radiation = Radiation()\n",
    "## create instance of radiation model\n",
    "rad_flows = radiation.generate(tessellation, tile_id_column='county_ID', tot_outflows_column='tot_outflow',\n",
    "                                   relevance_column='population', out_format='flows_sample')\n"
   ]
  },
  {
   "cell_type": "code",
   "execution_count": 7,
   "metadata": {},
   "outputs": [],
   "source": [
    "## Comparing empirical flows against model\n",
    "xy_radiation = fdf.merge(rad_flows, on=['origin', 'destination'])\n"
   ]
  },
  {
   "cell_type": "code",
   "execution_count": 8,
   "metadata": {},
   "outputs": [
    {
     "data": {
      "text/html": [
       "<div>\n",
       "<style scoped>\n",
       "    .dataframe tbody tr th:only-of-type {\n",
       "        vertical-align: middle;\n",
       "    }\n",
       "\n",
       "    .dataframe tbody tr th {\n",
       "        vertical-align: top;\n",
       "    }\n",
       "\n",
       "    .dataframe thead th {\n",
       "        text-align: right;\n",
       "    }\n",
       "</style>\n",
       "<table border=\"1\" class=\"dataframe\">\n",
       "  <thead>\n",
       "    <tr style=\"text-align: right;\">\n",
       "      <th></th>\n",
       "      <th>origin</th>\n",
       "      <th>destination</th>\n",
       "      <th>distance_[km]</th>\n",
       "      <th>flow_x</th>\n",
       "      <th>flow_y</th>\n",
       "    </tr>\n",
       "  </thead>\n",
       "  <tbody>\n",
       "    <tr>\n",
       "      <th>0</th>\n",
       "      <td>1001</td>\n",
       "      <td>1007</td>\n",
       "      <td>76.861597</td>\n",
       "      <td>7</td>\n",
       "      <td>54</td>\n",
       "    </tr>\n",
       "    <tr>\n",
       "      <th>1</th>\n",
       "      <td>1001</td>\n",
       "      <td>1013</td>\n",
       "      <td>87.918287</td>\n",
       "      <td>37</td>\n",
       "      <td>25</td>\n",
       "    </tr>\n",
       "    <tr>\n",
       "      <th>2</th>\n",
       "      <td>1001</td>\n",
       "      <td>1015</td>\n",
       "      <td>152.858742</td>\n",
       "      <td>5</td>\n",
       "      <td>12</td>\n",
       "    </tr>\n",
       "    <tr>\n",
       "      <th>3</th>\n",
       "      <td>1001</td>\n",
       "      <td>1021</td>\n",
       "      <td>38.103967</td>\n",
       "      <td>350</td>\n",
       "      <td>258</td>\n",
       "    </tr>\n",
       "    <tr>\n",
       "      <th>4</th>\n",
       "      <td>1001</td>\n",
       "      <td>1031</td>\n",
       "      <td>140.051395</td>\n",
       "      <td>8</td>\n",
       "      <td>7</td>\n",
       "    </tr>\n",
       "    <tr>\n",
       "      <th>...</th>\n",
       "      <td>...</td>\n",
       "      <td>...</td>\n",
       "      <td>...</td>\n",
       "      <td>...</td>\n",
       "      <td>...</td>\n",
       "    </tr>\n",
       "    <tr>\n",
       "      <th>82200</th>\n",
       "      <td>56045</td>\n",
       "      <td>56021</td>\n",
       "      <td>298.842613</td>\n",
       "      <td>2</td>\n",
       "      <td>28</td>\n",
       "    </tr>\n",
       "    <tr>\n",
       "      <th>82201</th>\n",
       "      <td>56045</td>\n",
       "      <td>56025</td>\n",
       "      <td>186.412115</td>\n",
       "      <td>7</td>\n",
       "      <td>138</td>\n",
       "    </tr>\n",
       "    <tr>\n",
       "      <th>82202</th>\n",
       "      <td>56045</td>\n",
       "      <td>56027</td>\n",
       "      <td>94.651664</td>\n",
       "      <td>11</td>\n",
       "      <td>50</td>\n",
       "    </tr>\n",
       "    <tr>\n",
       "      <th>82203</th>\n",
       "      <td>56045</td>\n",
       "      <td>56031</td>\n",
       "      <td>190.363529</td>\n",
       "      <td>8</td>\n",
       "      <td>16</td>\n",
       "    </tr>\n",
       "    <tr>\n",
       "      <th>82204</th>\n",
       "      <td>56045</td>\n",
       "      <td>56033</td>\n",
       "      <td>216.121167</td>\n",
       "      <td>5</td>\n",
       "      <td>33</td>\n",
       "    </tr>\n",
       "  </tbody>\n",
       "</table>\n",
       "<p>82205 rows × 5 columns</p>\n",
       "</div>"
      ],
      "text/plain": [
       "      origin destination  distance_[km]  flow_x  flow_y\n",
       "0       1001        1007      76.861597       7      54\n",
       "1       1001        1013      87.918287      37      25\n",
       "2       1001        1015     152.858742       5      12\n",
       "3       1001        1021      38.103967     350     258\n",
       "4       1001        1031     140.051395       8       7\n",
       "...      ...         ...            ...     ...     ...\n",
       "82200  56045       56021     298.842613       2      28\n",
       "82201  56045       56025     186.412115       7     138\n",
       "82202  56045       56027      94.651664      11      50\n",
       "82203  56045       56031     190.363529       8      16\n",
       "82204  56045       56033     216.121167       5      33\n",
       "\n",
       "[82205 rows x 5 columns]"
      ]
     },
     "execution_count": 8,
     "metadata": {},
     "output_type": "execute_result"
    }
   ],
   "source": [
    "xy_radiation"
   ]
  },
  {
   "cell_type": "code",
   "execution_count": 9,
   "metadata": {},
   "outputs": [],
   "source": [
    "def makeNetworkFromFiles(fedges,nodes,flow_i):\n",
    "    ''' Generate a network from csv files.\n",
    "    The first column of the nodes file is taken to be the id by default.\n",
    "    The nodes file must contain columns named weight, source, and target.\n",
    "    The deli parameter is the delimeter of the file. '''\n",
    "    G = nx.Graph()  #modified from lecture 12 \n",
    "    fn=nodes.transpose()\n",
    "    n_attr=len(fn.index.values)\n",
    "    attr=fn.index.values\n",
    "    for n in fn.columns:\n",
    "        attr_node=dict(list(zip(attr, fn[n].values)))\n",
    "        \n",
    "        G.add_node(n,attr_dic=attr_node)\n",
    "    #fl=pd.read_csv(fedges,delimiter=deli)\n",
    "    fl = fedges\n",
    "    fl.columns = list(map(str.lower, fl.columns))\n",
    "    for L in fl.index.values:\n",
    "        \n",
    "        #print(fl['origin'][L])\n",
    "    #    print((G.nodes[str(fl['origin'][L])]['attr_dic']['latitude']))\n",
    "        #dist = geopy.distance.geodesic((\n",
    "           # G.nodes[str(fl['origin'][L])]['attr_dic']['latitude'],G.nodes[str(fl['origin'][L])]['attr_dic']['longitude']),\n",
    "            #(G.nodes[str(fl['destination'][L])]['attr_dic']['latitude'],\n",
    "                    #                G.nodes[str(fl['destination'][L])]['attr_dic']['longitude'])).km\n",
    " \n",
    "        \n",
    "        o_n = fl['origin'][L]\n",
    "        d_n = fl['destination'][L]\n",
    "        if o_n != d_n:\n",
    "            G.add_edge(fl['origin'][L],fl['destination'][L],weight=int(fl[flow_i][L]))\n",
    "#             dist = geopy.distance.geodesic((G.nodes[o_n]['attr_dic']['latitude'],G.nodes[o_n]['attr_dic']['longitude']), (G.nodes[d_n]['attr_dic']['latitude'],G.nodes[d_n]['attr_dic']['longitude'])).km\n",
    "#             #print(dist)\n",
    "            dist = fl['distance_[km]'][L]\n",
    "            G[o_n][d_n]['distance'] = dist\n",
    "          \n",
    "            \n",
    "    G = G.subgraph(sorted(nx.connected_components(G), key=len, reverse=True)[0])\n",
    "    #GL = max(nx.connected_component_subgraphs(G), key=len) ## no implemented for directed graph\n",
    "    return G"
   ]
  },
  {
   "cell_type": "code",
   "execution_count": 10,
   "metadata": {},
   "outputs": [],
   "source": [
    "def remove_values_from_list(the_list, val):\n",
    "    return [value for value in the_list if value != val]"
   ]
  },
  {
   "cell_type": "markdown",
   "metadata": {},
   "source": [
    "### Build two undirected weighted graphs with the data and a trip distribution model of your choice (developed in Assignment 2 part 1). The goal is to analyze and compare their network properties."
   ]
  },
  {
   "cell_type": "code",
   "execution_count": 11,
   "metadata": {},
   "outputs": [],
   "source": [
    "# import geopy.distance\n",
    "## Create \n",
    "g_actual = makeNetworkFromFiles(xy_radiation,nodes,'flow_x')\n",
    "g_globally = makeNetworkFromFiles(xy_radiation,nodes,'flow_y')\n",
    "#g= makeNetworkFromFiles('SchoolEdges.csv', 'SchoolNodes.csv',' ')\n",
    "#g=makeNetworkFromFiles('USCommuting_LINKS.csv', 'USCommuting_NODES.csv',' ')\n",
    "\n",
    "degrees_actual=remove_values_from_list(list(dict(g_actual.degree()).values()),0)\n",
    "degrees_globally=remove_values_from_list(list(dict(g_globally.degree()).values()),0)\n",
    "\n",
    "\n",
    "w_degrees_actual=remove_values_from_list(list(dict(g_actual.degree(weight  = 'weight')).values()),0)\n",
    "w_degrees_globally=remove_values_from_list(list(dict(g_globally.degree(weight  = 'weight')).values()),0)"
   ]
  },
  {
   "cell_type": "code",
   "execution_count": 29,
   "metadata": {},
   "outputs": [
    {
     "data": {
      "text/plain": [
       "Text(0, 0.5, '$P(k)$')"
      ]
     },
     "execution_count": 29,
     "metadata": {},
     "output_type": "execute_result"
    },
    {
     "data": {
      "image/png": "[encoded data removed]",
      "text/plain": [
       "<Figure size 648x504 with 1 Axes>"
      ]
     },
     "metadata": {
      "needs_background": "light"
     },
     "output_type": "display_data"
    }
   ],
   "source": [
    "fig, ax = plt.subplots()\n",
    "fig.set_size_inches((9, 7))\n",
    "\n",
    "n_bins = 20\n",
    "\n",
    "#n, bins = np.histogram(out_d, bins = range(min(out_d), max(out_d)+1, 2), normed=\"True\") \n",
    "out_logBins = np.logspace(np.log10(min(degrees_actual)), np.log10(max(degrees_actual)),num=n_bins)\n",
    "out_logBinDensity, out_binedges = np.histogram(degrees_actual, bins=out_logBins, density=True)\n",
    "\n",
    "#n, bins = np.histogram(in_d, bins = range(min(in_d), max(in_d)+1, 2), normed=\"True\") \n",
    "in_logBins = np.logspace(np.log10(min(degrees_globally)), np.log10(max(degrees_globally)),num=n_bins)\n",
    "in_logBinDensity, in_binedges = np.histogram(degrees_globally, bins=in_logBins, density=True)\n",
    "\n",
    "ax.loglog(out_logBins[:-1],out_logBinDensity,'o', markersize=10,label=r'$k_{actual}$')\n",
    "ax.loglog(in_logBins[:-1],in_logBinDensity,'s', markersize=10,label=r'$k_{radiation}$')\n",
    "ax.legend(fontsize=30)\n",
    "\n",
    "\n",
    "ax.set_xlabel('$degree, k$',fontsize=40)\n",
    "ax.set_ylabel('$P(k)$',fontsize=40) \n",
    "#plt.savefig(\"distributions.eps\",dpi=200,bbox_inches='tight');"
   ]
  },
  {
   "cell_type": "markdown",
   "metadata": {},
   "source": [
    "### For both data and model, calculate the degree distributions of degree strengths or weighted degree (similar to Figure 5B below, extracted from the paper: the structure of interurban traffic: a weighted network analysis presented in Lecture 7) (10pts)"
   ]
  },
  {
   "cell_type": "code",
   "execution_count": 30,
   "metadata": {},
   "outputs": [
    {
     "data": {
      "text/plain": [
       "Text(0, 0.5, '$P(s)$')"
      ]
     },
     "execution_count": 30,
     "metadata": {},
     "output_type": "execute_result"
    },
    {
     "data": {
      "image/png": "[encoded data removed]",
      "text/plain": [
       "<Figure size 648x504 with 1 Axes>"
      ]
     },
     "metadata": {
      "needs_background": "light"
     },
     "output_type": "display_data"
    }
   ],
   "source": [
    "fig, ax = plt.subplots()\n",
    "fig.set_size_inches((9, 7))\n",
    "\n",
    "n_bins = 20\n",
    "\n",
    "#n, bins = np.histogram(out_d, bins = range(min(out_d), max(out_d)+1, 2), normed=\"True\") \n",
    "out_logBins = np.logspace(np.log10(min(w_degrees_actual)), np.log10(max(w_degrees_actual)),num=n_bins)\n",
    "out_logBinDensity, out_binedges = np.histogram(w_degrees_actual, bins=out_logBins, density=True)\n",
    "\n",
    "#n, bins = np.histogram(in_d, bins = range(min(in_d), max(in_d)+1, 2), normed=\"True\") \n",
    "in_logBins = np.logspace(np.log10(min(w_degrees_globally)), np.log10(max(w_degrees_globally)),num=n_bins)\n",
    "in_logBinDensity, in_binedges = np.histogram(w_degrees_globally, bins=in_logBins, density=True)\n",
    "\n",
    "ax.loglog(out_logBins[:-1],out_logBinDensity,'o', markersize=10,label=r'$s_{actual}$')\n",
    "ax.loglog(in_logBins[:-1],in_logBinDensity,'s', markersize=10,label=r'$s_{radiation}$')\n",
    "ax.legend(fontsize=30)\n",
    "\n",
    "\n",
    "ax.set_xlabel('$strength, s$',fontsize=40)\n",
    "ax.set_ylabel('$P(s)$',fontsize=40) \n",
    "#plt.savefig(\"distributions.eps\",dpi=200,bbox_inches='tight')"
   ]
  },
  {
   "cell_type": "markdown",
   "metadata": {},
   "source": [
    "### 2. Compare values of the two networks respect to: maximum degree Kmax, average degree , standard deviation of the average degree, sk, the average clustering coefficient and average shortest path (30 pts)\n"
   ]
  },
  {
   "cell_type": "code",
   "execution_count": 31,
   "metadata": {},
   "outputs": [
    {
     "name": "stdout",
     "output_type": "stream",
     "text": [
      "\n",
      "-------------- Actual Network -------------------\n",
      "The Maximum Degree for the Networks is  513\n",
      "The Minimum Degree for the Networks is  2\n",
      "The Average Degree for the Networks is  37.14103788602356\n",
      "The STD of the Degrees for the Networks is  33.79522637535336\n",
      "\n",
      "-------------- Radiation Model Network -------------------\n",
      "The Maximum Degree for the Networks is  513\n",
      "The Minimum Degree for the Networks is  2\n",
      "The Average Degree for the Networks is  37.14103788602356\n",
      "The STD of the Degrees for the Networks is  33.79522637535336\n",
      "\n",
      "-------------- Weighted Actual Network -------------------\n",
      "The Maximum Weighted Degree for the Actual Network is  648262\n",
      "The Minimum Weighted Degree for the Actual Network is  19\n",
      "The Average Weighted Degree for the Actual Network is  11001.386182744349\n",
      "The STD of the Weighted Degrees for the Actual Network is  33641.49144530156\n",
      "Clustering coefficient:  0.5271650225392531\n",
      "\n",
      "-------------- Weighted Radiation Constrained Network -------------------\n",
      "The Maximum Weighted Degree for the Globally Constrained Network is  545892\n",
      "The Minimum Weighted Degree for the Globally Constrained Network is  10\n",
      "The Average Weighted Degree for the Globally Constrained Network is  11534.753900031837\n",
      "The STD of the Weighted Degrees for the Globally Constrained Network is  28037.724433996576\n",
      "Clustering coefficient:  0.5271650225392531\n"
     ]
    }
   ],
   "source": [
    "print('')\n",
    "print('-------------- Actual Network -------------------')\n",
    "print(\"The Maximum Degree for the Networks is \",max(degrees_actual))\n",
    "print(\"The Minimum Degree for the Networks is \",min(degrees_actual))\n",
    "print(\"The Average Degree for the Networks is \", np.mean(degrees_actual))\n",
    "print(\"The STD of the Degrees for the Networks is \",np.std(degrees_actual))\n",
    "\n",
    "print('')\n",
    "print('-------------- Radiation Model Network -------------------')\n",
    "print(\"The Maximum Degree for the Networks is \",max(degrees_globally))\n",
    "print(\"The Minimum Degree for the Networks is \",min(degrees_globally))\n",
    "print(\"The Average Degree for the Networks is \", np.mean(degrees_globally))\n",
    "print(\"The STD of the Degrees for the Networks is \",np.std(degrees_globally))\n",
    "\n",
    "\n",
    "print('')\n",
    "print('-------------- Weighted Actual Network -------------------')\n",
    "print(\"The Maximum Weighted Degree for the Actual Network is \",max(w_degrees_actual))\n",
    "print(\"The Minimum Weighted Degree for the Actual Network is \",min(w_degrees_actual))\n",
    "print(\"The Average Weighted Degree for the Actual Network is \", np.mean(w_degrees_actual))\n",
    "print(\"The STD of the Weighted Degrees for the Actual Network is \",np.std(w_degrees_actual))\n",
    "print('Clustering coefficient: ', nx.average_clustering(g_actual))\n",
    "# print('Average Shortest path: ',nx.average_shortest_path_length(g_actual))\n",
    "\n",
    "print('')\n",
    "print('-------------- Weighted Radiation Constrained Network -------------------')\n",
    "print(\"The Maximum Weighted Degree for the Globally Constrained Network is \",max(w_degrees_globally))\n",
    "print(\"The Minimum Weighted Degree for the Globally Constrained Network is \",min(w_degrees_globally))\n",
    "print(\"The Average Weighted Degree for the Globally Constrained Network is \", np.mean(w_degrees_globally))\n",
    "print(\"The STD of the Weighted Degrees for the Globally Constrained Network is \",np.std(w_degrees_globally))\n",
    "print('Clustering coefficient: ', nx.average_clustering(g_globally))\n",
    "# print('Average Shortest path: ',nx.average_shortest_path_length(g_globally))"
   ]
  },
  {
   "cell_type": "code",
   "execution_count": 15,
   "metadata": {},
   "outputs": [],
   "source": [
    "# print('Average Shortest path: ',nx.average_shortest_path_length(g_actual))\n",
    "# print('Average Shortest path: ',nx.average_shortest_path_length(g_globally))"
   ]
  },
  {
   "cell_type": "code",
   "execution_count": 16,
   "metadata": {},
   "outputs": [],
   "source": [
    "distances_all_flat = []\n",
    "for edg in g_actual.edges:\n",
    "    distances_all_flat.append(g_actual[edg[0]][edg[1]]['distance'])"
   ]
  },
  {
   "cell_type": "code",
   "execution_count": 17,
   "metadata": {},
   "outputs": [
    {
     "name": "stderr",
     "output_type": "stream",
     "text": [
      "C:\\Users\\mmoud\\Anaconda3\\envs\\skmob\\lib\\site-packages\\seaborn\\distributions.py:2551: FutureWarning: `distplot` is a deprecated function and will be removed in a future version. Please adapt your code to use either `displot` (a figure-level function with similar flexibility) or `histplot` (an axes-level function for histograms).\n",
      "  warnings.warn(msg, FutureWarning)\n"
     ]
    },
    {
     "data": {
      "text/plain": [
       "Text(0, 0.5, '$P(d)$')"
      ]
     },
     "execution_count": 17,
     "metadata": {},
     "output_type": "execute_result"
    },
    {
     "data": {
      "image/png": "[encoded data removed]",
      "text/plain": [
       "<Figure size 432x288 with 1 Axes>"
      ]
     },
     "metadata": {
      "needs_background": "light"
     },
     "output_type": "display_data"
    }
   ],
   "source": [
    "import seaborn as sns\n",
    "sns.distplot(distances_all_flat,kde = False)\n",
    "plt.xlabel('$d (km)$',fontsize=20)\n",
    "plt.ylabel('$P(d)$',fontsize=20)"
   ]
  },
  {
   "cell_type": "code",
   "execution_count": 18,
   "metadata": {},
   "outputs": [],
   "source": [
    "kk_actual = []\n",
    "wij_actual = []\n",
    "dij_actual = []\n",
    "degrees_actual_dic = g_actual.degree(weight  = 'weight')\n",
    "for n in g_actual.nodes(data=True):\n",
    "    for e in g_actual.edges(n[0],data=True):\n",
    "        kk_actual.append(degrees_actual_dic[e[0]]*degrees_actual_dic[e[1]])\n",
    "        wij_actual.append(g_actual[e[0]][e[1]]['weight'])\n",
    "        dij_actual.append(g_actual[e[0]][e[1]]['distance'])\n",
    "\n",
    "kk_globally = []\n",
    "wij_globally = []\n",
    "dij_globally = []\n",
    "degrees_globally_dic = g_globally.degree(weight  = 'weight')\n",
    "for n in g_globally.nodes(data=True):\n",
    "    for e in g_globally.edges(n[0],data=True):\n",
    "        kk_globally.append(degrees_globally_dic[e[0]]*degrees_globally_dic[e[1]])\n",
    "        wij_globally.append(g_globally[e[0]][e[1]]['weight'])\n",
    "        dij_globally.append(g_globally[e[0]][e[1]]['distance'])"
   ]
  },
  {
   "cell_type": "code",
   "execution_count": 19,
   "metadata": {},
   "outputs": [
    {
     "data": {
      "text/plain": [
       "Text(0, 0.5, '$<w_{i,j}>$')"
      ]
     },
     "execution_count": 19,
     "metadata": {},
     "output_type": "execute_result"
    },
    {
     "data": {
      "image/png": "[encoded data removed]",
      "text/plain": [
       "<Figure size 1296x504 with 1 Axes>"
      ]
     },
     "metadata": {
      "needs_background": "light"
     },
     "output_type": "display_data"
    }
   ],
   "source": [
    "n_bins = 40\n",
    "kk_logBins = np.logspace(np.log10(min(kk_actual)), np.log10(max(kk_actual)),num=n_bins)\n",
    "counts, bins = np.histogram(kk_actual, bins=kk_logBins);\n",
    "sums, bins = np.histogram(kk_actual, bins=kk_logBins,weights=wij_actual);\n",
    "avg_w = sums/counts;\n",
    "fig, ax = plt.subplots()\n",
    "fig.set_size_inches((18, 7))\n",
    "ax.loglog(bins[:-1],avg_w,linewidth=0,color='r',marker='o',markersize=10)\n",
    "ax.set_xlabel('$k_ik_j$',fontsize=20)\n",
    "ax.set_ylabel('$<w_{i,j}>$',fontsize=20)"
   ]
  },
  {
   "cell_type": "code",
   "execution_count": 20,
   "metadata": {},
   "outputs": [
    {
     "name": "stderr",
     "output_type": "stream",
     "text": [
      "C:\\Users\\mmoud\\Anaconda3\\envs\\skmob\\lib\\site-packages\\ipykernel_launcher.py:5: RuntimeWarning: invalid value encountered in true_divide\n",
      "  \"\"\"\n"
     ]
    },
    {
     "data": {
      "text/plain": [
       "Text(0, 0.5, '$<w_{i,j}>$')"
      ]
     },
     "execution_count": 20,
     "metadata": {},
     "output_type": "execute_result"
    },
    {
     "data": {
      "image/png": "[encoded data removed]",
      "text/plain": [
       "<Figure size 1296x504 with 1 Axes>"
      ]
     },
     "metadata": {
      "needs_background": "light"
     },
     "output_type": "display_data"
    }
   ],
   "source": [
    "n_bins = 40\n",
    "kk_logBins = np.logspace(np.log10(min(kk_globally)), np.log10(max(kk_globally)),num=n_bins)\n",
    "counts, bins = np.histogram(kk_globally, bins=kk_logBins);\n",
    "sums, bins = np.histogram(kk_globally, bins=kk_logBins,weights=wij_globally);\n",
    "avg_w = sums/counts;\n",
    "fig, ax = plt.subplots()\n",
    "fig.set_size_inches((18, 7))\n",
    "ax.loglog(bins[:-1],avg_w,linewidth=0,color='r',marker='o',markersize=10)\n",
    "ax.set_xlabel('$k_ik_j$',fontsize=20)\n",
    "ax.set_ylabel('$<w_{i,j}>$',fontsize=20)"
   ]
  },
  {
   "cell_type": "code",
   "execution_count": 21,
   "metadata": {},
   "outputs": [
    {
     "name": "stderr",
     "output_type": "stream",
     "text": [
      "C:\\Users\\mmoud\\Anaconda3\\envs\\skmob\\lib\\site-packages\\ipykernel_launcher.py:5: RuntimeWarning: invalid value encountered in true_divide\n",
      "  \"\"\"\n"
     ]
    },
    {
     "data": {
      "image/png": "[encoded data removed]",
      "text/plain": [
       "<Figure size 1296x504 with 1 Axes>"
      ]
     },
     "metadata": {
      "needs_background": "light"
     },
     "output_type": "display_data"
    }
   ],
   "source": [
    "n_bins = 40\n",
    "kk_logBins = np.logspace(np.log10(min(dij_actual)), np.log10(max(dij_actual)),num=n_bins)\n",
    "counts, bins = np.histogram(dij_actual, bins=kk_logBins);\n",
    "sums, bins = np.histogram(dij_actual, bins=kk_logBins,weights=wij_actual);\n",
    "avg_w = sums/counts;\n",
    "fig, ax = plt.subplots()\n",
    "fig.set_size_inches((18, 7))\n",
    "ax.loglog(bins[:-1],avg_w,linewidth=0,color='r',marker='o',markersize=10)\n",
    "ax.set_xlabel('$d_ij$',fontsize=20)\n",
    "ax.set_ylabel('$<w_{i,j}>$',fontsize=20)\n",
    "plt.savefig(\"commutes_directed_.eps\",dpi=200,bbox_inches='tight')"
   ]
  },
  {
   "cell_type": "code",
   "execution_count": 22,
   "metadata": {},
   "outputs": [
    {
     "name": "stderr",
     "output_type": "stream",
     "text": [
      "C:\\Users\\mmoud\\Anaconda3\\envs\\skmob\\lib\\site-packages\\ipykernel_launcher.py:5: RuntimeWarning: invalid value encountered in true_divide\n",
      "  \"\"\"\n"
     ]
    },
    {
     "data": {
      "text/plain": [
       "Text(0, 0.5, '$<w_{i,j}>$')"
      ]
     },
     "execution_count": 22,
     "metadata": {},
     "output_type": "execute_result"
    },
    {
     "data": {
      "image/png": "[encoded data removed]",
      "text/plain": [
       "<Figure size 1296x504 with 1 Axes>"
      ]
     },
     "metadata": {
      "needs_background": "light"
     },
     "output_type": "display_data"
    }
   ],
   "source": [
    "n_bins = 40\n",
    "kk_logBins = np.logspace(np.log10(min(dij_globally)), np.log10(max(dij_globally)),num=n_bins)\n",
    "counts, bins = np.histogram(dij_globally, bins=kk_logBins);\n",
    "sums, bins = np.histogram(dij_globally, bins=kk_logBins,weights=wij_globally);\n",
    "avg_w = sums/counts;\n",
    "fig, ax = plt.subplots()\n",
    "fig.set_size_inches((18, 7))\n",
    "ax.loglog(bins[:-1],avg_w,linewidth=0,color='r',marker='o',markersize=10)\n",
    "ax.set_xlabel('$d_ij$',fontsize=20)\n",
    "ax.set_ylabel('$<w_{i,j}>$',fontsize=20)"
   ]
  },
  {
   "cell_type": "markdown",
   "metadata": {},
   "source": [
    "### 5. Plot a power law function for the degree distribution: P(k) = C* k-γ  fixing Kmin like in the commuting US network, and selecting γ >1 of your choice that Kmax is close to the data (10pts)"
   ]
  },
  {
   "cell_type": "code",
   "execution_count": 25,
   "metadata": {},
   "outputs": [],
   "source": [
    "import powerlaw "
   ]
  },
  {
   "cell_type": "code",
   "execution_count": 26,
   "metadata": {},
   "outputs": [
    {
     "name": "stderr",
     "output_type": "stream",
     "text": [
      "Calculating best minimal value for power law fit\n",
      "C:\\Users\\mmoud\\Anaconda3\\envs\\skmob\\lib\\site-packages\\powerlaw-1.4.6-py3.7.egg\\powerlaw.py:700: RuntimeWarning: invalid value encountered in true_divide\n",
      "C:\\Users\\mmoud\\Anaconda3\\envs\\skmob\\lib\\site-packages\\powerlaw-1.4.6-py3.7.egg\\powerlaw.py:700: RuntimeWarning: divide by zero encountered in true_divide\n"
     ]
    }
   ],
   "source": [
    "## Fit powerlaw\n",
    "fit=powerlaw.Fit(w_degrees_actual,discrete=True)"
   ]
  },
  {
   "cell_type": "code",
   "execution_count": 27,
   "metadata": {},
   "outputs": [
    {
     "name": "stdout",
     "output_type": "stream",
     "text": [
      "alpha = 1.8428699729299418\n",
      "standard error = 0.02465206628948676\n",
      "xmin = 4092.0\n"
     ]
    }
   ],
   "source": [
    "print ('alpha =',fit.power_law.alpha)   #exponent of the power law\n",
    "print ('standard error =',fit.power_law.sigma)  #standard error oof the fit\n",
    "print ('xmin =',fit.xmin) #xmin"
   ]
  },
  {
   "cell_type": "code",
   "execution_count": 28,
   "metadata": {},
   "outputs": [
    {
     "data": {
      "text/plain": [
       "<matplotlib.legend.Legend at 0x1f600cbcac8>"
      ]
     },
     "execution_count": 28,
     "metadata": {},
     "output_type": "execute_result"
    },
    {
     "data": {
      "image/png": "[encoded data removed]",
      "text/plain": [
       "<Figure size 864x648 with 1 Axes>"
      ]
     },
     "metadata": {
      "needs_background": "light"
     },
     "output_type": "display_data"
    }
   ],
   "source": [
    "plt.figure(figsize=(12,9))\n",
    "fit.power_law.plot_pdf(color='g',linestyle='--',label='Power law fit')\n",
    "powerlaw.plot_pdf(w_degrees_actual,color ='b',marker= 'o',label='Raw Data')\n",
    "plt.ylabel('P(k)',fontsize=18)\n",
    "plt.xlabel('degree, k',fontsize=18)\n",
    "plt.legend(loc='best',fontsize=18)"
   ]
  },
  {
   "cell_type": "code",
   "execution_count": null,
   "metadata": {},
   "outputs": [],
   "source": []
  },
  {
   "cell_type": "code",
   "execution_count": null,
   "metadata": {},
   "outputs": [],
   "source": []
  }
 ],
 "metadata": {
  "kernelspec": {
   "display_name": "Python [conda env: skmob]",
   "language": "python",
   "name": "skmob"
  },
  "language_info": {
   "codemirror_mode": {
    "name": "ipython",
    "version": 3
   },
   "file_extension": ".py",
   "mimetype": "text/x-python",
   "name": "python",
   "nbconvert_exporter": "python",
   "pygments_lexer": "ipython3",
   "version": "3.7.8"
  }
 },
 "nbformat": 4,
 "nbformat_minor": 2
}
